{
 "cells": [
  {
   "cell_type": "markdown",
   "metadata": {},
   "source": [
    "## Chapter3 신경망 neural network\n",
    "\n",
    "### 목차\n",
    "### 3.1 퍼셉트론에서 신경망으로\n",
    "### 3.2 활성화 함수\n",
    "### 3.3 다차원 배열의 계산\n",
    "### 3.4 3층 신경망 구현하기\n",
    "### 3.5 출력층 설계하기\n",
    "### 3.6 손글씨 숫자인식\n",
    "\n",
    "\n",
    "\n",
    "\n",
    " 아직은 AND, OR 게이트의 진리표를 보면서 수동으로 퍼셉트론에 필요한 가중치(Weight)를 정해줘야 한다. \n",
    " 신경망은 이런 문제를 해결해준다. 가중치 매개변수의 적절한 값을 데이터로부터 자동으로 학습하는 능력이 신경망의 중요한 성질이다. 이번장에서는 신경망의 개요를 설명하고 신경망이 입력데이터가 무엇인지 식별하는 처리과정을 자세히 알아보자."
   ]
  },
  {
   "cell_type": "markdown",
   "metadata": {},
   "source": [
    "### 3.1 퍼셉트론에서 신경망으로\n",
    "#### 3.1.1 신경망의 예\n",
    "- \n",
    "#### 3.1.2 퍼셉트론의 복습\n",
    "#### 3.1.3 신경망의 예\n"
   ]
  },
  {
   "cell_type": "markdown",
   "metadata": {},
   "source": [
    "### 3.2 활성화 함수\n",
    "#### 3.2.1 시그모이드 함수\n",
    "#### 3.2.2 계단함수의 구현하기\n",
    "#### 3.2.3 계단함수의 그래프\n",
    "#### 3.2.4 시그모이드 함수 구현하기\n",
    "#### 3.2.5 시그모이드 함수와 계단함수 비교\n",
    "#### 3.2.6 비선형함수\n",
    "#### 3.2.7 ReLU 함수\n"
   ]
  },
  {
   "cell_type": "markdown",
   "metadata": {},
   "source": [
    "### 3.3 다차원 배열의 계산\n",
    "#### 3.3.1 다차원 배열\n",
    "#### 3.3.2 행렬의 내적(행렬곱)\n",
    "#### 3.3.3 신경망의 내적\n"
   ]
  },
  {
   "cell_type": "markdown",
   "metadata": {},
   "source": [
    "### 3.4 3층 신경망 구현하기\n",
    "#### 3.4.1  표기법 설명\n",
    "#### 3.4.2 각 층의 신호 전달 구현하기\n",
    "#### 3.4.3 구현 정리\n",
    "\n"
   ]
  },
  {
   "cell_type": "markdown",
   "metadata": {},
   "source": [
    "### 3.5 출력층 설계하기\n",
    "#### 3.5.1 항등함수와 소프트맥스 함수 구현하기\n",
    "#### 3.5.2 소프트 맥스 함수 구현시 주의점\n",
    "#### 3.5.3 소프트 맥스 함수의 특징\n",
    "#### 3.5.4 출력층의 뉴런 수 정하기\n"
   ]
  },
  {
   "cell_type": "markdown",
   "metadata": {},
   "source": [
    "\n",
    "\n",
    "### 3.6 손글씨 숫자인식\n",
    "#### 3.6.1 MNIST 데이터셋\n",
    "#### 3.6.2 신경망의 추론정리\n",
    "#### 3.6.3 배치처리\n"
   ]
  },
  {
   "cell_type": "code",
   "execution_count": null,
   "metadata": {},
   "outputs": [],
   "source": []
  },
  {
   "cell_type": "code",
   "execution_count": null,
   "metadata": {},
   "outputs": [],
   "source": []
  },
  {
   "cell_type": "code",
   "execution_count": null,
   "metadata": {},
   "outputs": [],
   "source": []
  }
 ],
 "metadata": {
  "kernelspec": {
   "display_name": "Python 3",
   "language": "python",
   "name": "python3"
  },
  "language_info": {
   "codemirror_mode": {
    "name": "ipython",
    "version": 3
   },
   "file_extension": ".py",
   "mimetype": "text/x-python",
   "name": "python",
   "nbconvert_exporter": "python",
   "pygments_lexer": "ipython3",
   "version": "3.7.4"
  }
 },
 "nbformat": 4,
 "nbformat_minor": 2
}
