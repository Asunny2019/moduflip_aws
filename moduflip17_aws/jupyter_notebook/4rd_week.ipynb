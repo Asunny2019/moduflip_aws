{
 "cells": [
  {
   "cell_type": "markdown",
   "metadata": {},
   "source": [
    "## 인프라운영따라잡기4주차자율학습\n",
    "1. 왜 Context Switcing이 필요하고,Context Switching은 어떤식으로 진행되는가?\n",
    "2. HTTP 주요상태 코드들에 관한 정리(Tip:자주 사용하는 빈도순으로 10가지!)\n",
    "3. EAMS(Enterprise Architecture Management System)란?\n",
    "4. 인텔의‘하이퍼스레딩’이라는 기술이란?"
   ]
  },
  {
   "cell_type": "markdown",
   "metadata": {},
   "source": [
    "### 1. 왜 Context Switcing이 필요하고,Context Switching은 어떤식으로 진행 되는가?\n",
    "\n",
    "- 여러 사람들이 컴퓨터를 동시에 사용하기 위해서는 CPU가 tast를 바꿔가며 실행할 수 있도록 하는 Context Switching이 필요하다. \n",
    "\n",
    "- Context Switching의 진행  \n",
    "step1. Task의 대부분의 정보는 Register에 저장되고 PCB(Process Control Block)로 관리되고 있다.  \n",
    "step2. 현재 실행하고 있는 Task의 PCB 정보를 저장하게 된다. (Process Stack, Ready Queue)  \n",
    "step3. 다음 실행할 Task의 PCB정보를 읽어서 Register에 적재하고 CPU가 이전에 진행했던 과정을 연속적으로 수행할 수 있다.   \n",
    "\n",
    "- PCB구조  \n",
    " Process State : 프로세스 상태(Create, Ready, Running, Block, terminated)  \n",
    " Process Counter : 다음 실행할 명령어의 주솟값  \n",
    " CPU Registers : accumulator, index register, stack pointers, general purpose registers.  \n",
    "\n",
    "\n",
    "- Context Switching Cost  \n",
    " Context Switching이 발생하게 되면 cache 초기화, Memory Mapping 초기화, 메모리의 접근을 위해서 Kernel은 항상 실행 되는 Cost가 소요된다.  "
   ]
  },
  {
   "cell_type": "markdown",
   "metadata": {},
   "source": [
    "### 2. HTTP 주요상태 코드들에 관한 정리(Tip:자주 사용하는 빈도순으로 10가지!)\n",
    "\n",
    "#### 100번대: 데이터의 처리중인 상태\n",
    "- 100: 데이터의 일부를 서버가 받은 상태\n",
    "\n",
    "#### 200번대 : 정상적인 응답\n",
    "- 200: 에러없이 정상처리\n",
    "- 204: 정상처리 되었으나 서버에서 보내줄 데이터 없음\n",
    "\n",
    "#### 300번대: 다른 URL처리\n",
    "- 301: 요청된 페이지가 새 URL로 변경\n",
    "- 304: 이미 기존의 데이터와 변경된 것의 차이가 없음\n",
    "\n",
    "#### 400번대: 서버에서 인식할 수 없음\n",
    "- 400: 전송된 Request에 문제가 있어서 서버가 인식 못함\n",
    "- 403: 서버에서 허락 안함\n",
    "- 404: URL에 해당하는 자원을 찾을 수 없음.\n",
    "- 406: 전송 방식이 허락되지 않음\n",
    "\n",
    "#### 500번대: 서버 내부의 문제\n",
    "- 500: 서버에서 처리시 문제가 발생한다. \n",
    "- 502:게이트 웨이나 프록시 상태에서 문제가 발생\n",
    "- 503: 일시적인 과부하나 서비스 중단 상태\n",
    "- 504: 지정된 처리시간이 지나서 처리 되지 못한다.\n"
   ]
  },
  {
   "cell_type": "markdown",
   "metadata": {},
   "source": [
    "### 3. EAMS(Enterprise Architecture Management System)란?\n",
    "\n",
    "- 정보기술 페레임워크 수립, 메타데이터 시스템, 품질관리 시스템 등 주변 시스템과 연계를 통해 시스템 변경 내용 및 구성체계를 실시간으로 조회 및 수정할 수 있는 EA의 관리 및 활용을 위한 구현 시스템\n",
    "\n",
    "- 업무, 응용, 데이터, 기술, 보안 등의 아키텍쳐 결과물을 등록하고, 각 아키텍쳐 간의 관계를 분석하며, 아키텍처 정보에 대한 현재 상태, 미래상태와 이행계획으로 체계적으로 유지 관리하여 효율적으로 활용하기 위한 정보 시스템\n",
    "\n",
    "- 업무+데이터+응용+기술 => 구체화, 표준화, 현행화를 시킨다.\n",
    "\n",
    "- 시스템 구성은 관리도구(모델링 도구), 웹 인터페이스, EA관리 시스템 엔진, 레포리지, 타시스템 연계"
   ]
  },
  {
   "cell_type": "markdown",
   "metadata": {},
   "source": [
    "### 4. 인텔의‘하이퍼스레딩’이라는 기술이란?\n",
    "- 각 코어에서 둘 이상의 스레드를 실행할 수 있다. 스레드가 많을수록 더 많은 작업을 병렬로 수행 할수 있다. \n",
    "- 하이퍼 스레딩의 작동 원리는 하이퍼 스레딩 기술을 활성화하면, CPU는 물리적 코어 당 두개의 실행 컨텍스트를 노출한다. 이는 하나의 물리적 코어가 다른 소프트웨어 스레드를 처리할 수 있는 두 개의 \"논리적 코어\"처럼 작동한다는 것을 의미한다.\n",
    "- 두개의 논리적 코어는 기존의 단일 스레드 코어보다 더 효율적으로 작업을 수행할 수 있다. 인텔 하이퍼 스레딩 기술은 코어가 이전의 다른 작업이 완료되기를 기다리는 유휴 시간을 이용하여 CPU처리량을 개선한다. (서버 응용프로그램에서 최대 30%까지)\n"
   ]
  },
  {
   "cell_type": "markdown",
   "metadata": {},
   "source": [
    "### 참고자료  \n",
    "[1. 컨텍스트 스위치 Context Switching에 대한 정리](https://nesoy.github.io/articles/2018-11/Context-Switching)  \n",
    "[2. PCB와 Context Switching](https://m.blog.naver.com/adamdoha/222019884898)  \n",
    "[3. HTTP 상태 코드 정리](https://www.whatap.io/ko/blog/40/)\n",
    "[4. EAMS](https://itpenote.tistory.com/177)  \n",
    "[5. 하이퍼 스레딩이란 무엇입니까?](https://www.intel.co.kr/content/www/kr/ko/gaming/resources/hyper-threading.html)"
   ]
  }
 ],
 "metadata": {
  "kernelspec": {
   "display_name": "Python 3",
   "language": "python",
   "name": "python3"
  },
  "language_info": {
   "codemirror_mode": {
    "name": "ipython",
    "version": 3
   },
   "file_extension": ".py",
   "mimetype": "text/x-python",
   "name": "python",
   "nbconvert_exporter": "python",
   "pygments_lexer": "ipython3",
   "version": "3.7.4"
  }
 },
 "nbformat": 4,
 "nbformat_minor": 2
}
